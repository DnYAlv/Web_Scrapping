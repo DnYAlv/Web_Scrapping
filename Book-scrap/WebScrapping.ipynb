{
  "nbformat": 4,
  "nbformat_minor": 0,
  "metadata": {
    "colab": {
      "name": "WebScrapping.ipynb",
      "provenance": []
    },
    "kernelspec": {
      "name": "python3",
      "display_name": "Python 3"
    },
    "language_info": {
      "name": "python"
    }
  },
  "cells": [
    {
      "cell_type": "code",
      "metadata": {
        "id": "KAD1Kemsd22I"
      },
      "source": [
        "import requests\n",
        "from bs4 import BeautifulSoup\n",
        "import pandas as pd"
      ],
      "execution_count": null,
      "outputs": []
    },
    {
      "cell_type": "code",
      "metadata": {
        "id": "6aaAGy_Yd_-N"
      },
      "source": [
        "index_URL = 'http://books.toscrape.com/catalogue/category/books/romance_8/index.html'"
      ],
      "execution_count": null,
      "outputs": []
    },
    {
      "cell_type": "code",
      "metadata": {
        "id": "qIxYA1rxeTsg"
      },
      "source": [
        "def bookInfo(url):\n",
        "  index_html = requests.get(url).text\n",
        "  index = BeautifulSoup(index_html, 'html.parser')\n",
        "  info = index.find('div', class_='col-sm-6 product_main')\n",
        "  return info"
      ],
      "execution_count": null,
      "outputs": []
    },
    {
      "cell_type": "code",
      "metadata": {
        "id": "wTLDcEbuibh4"
      },
      "source": [
        "def bookList(book_url):\n",
        "  title_list = []\n",
        "  price_list = []\n",
        "  stock_list = []\n",
        "  index_html = requests.get(book_url).text\n",
        "  index = BeautifulSoup(index_html, 'html.parser')\n",
        "  listRow = index.find('ol', class_='row')\n",
        "  all_list = listRow.find_all('li', class_='col-xs-6 col-sm-4 col-md-3 col-lg-3')\n",
        "  n = 0\n",
        "  for i in all_list:\n",
        "    if n >= 10:\n",
        "      break\n",
        "    linkList = i.find('a', href=True).get('href').lstrip('../')\n",
        "    repaired_link = 'http://books.toscrape.com/catalogue/' + linkList\n",
        "    book_link = bookInfo(repaired_link)\n",
        "    title = book_link.find('h1').getText()\n",
        "    price = book_link.find('p', class_='price_color').getText()\n",
        "    stock = book_link.find('p', class_='instock availability').getText().lstrip('\\n ').rstrip('\\n ')\n",
        "    title_list.append(title)\n",
        "    price_list.append(price)\n",
        "    stock_list.append(stock)\n",
        "    n += 1\n",
        "  return title_list,price_list,stock_list"
      ],
      "execution_count": null,
      "outputs": []
    },
    {
      "cell_type": "code",
      "metadata": {
        "colab": {
          "base_uri": "https://localhost:8080/",
          "height": 357
        },
        "id": "kN_dkm9Wpjau",
        "outputId": "4ddf0172-ac86-4ec6-d461-1b7f34c01493"
      },
      "source": [
        "title,price,stock = bookList(index_URL)\n",
        "df = pd.DataFrame(\n",
        "    list(zip(title, price, stock)),\n",
        "               columns =['Book Title', 'Book Price', 'Stock Availability'],\n",
        "    )\n",
        "df"
      ],
      "execution_count": null,
      "outputs": [
        {
          "output_type": "execute_result",
          "data": {
            "text/html": [
              "<div>\n",
              "<style scoped>\n",
              "    .dataframe tbody tr th:only-of-type {\n",
              "        vertical-align: middle;\n",
              "    }\n",
              "\n",
              "    .dataframe tbody tr th {\n",
              "        vertical-align: top;\n",
              "    }\n",
              "\n",
              "    .dataframe thead th {\n",
              "        text-align: right;\n",
              "    }\n",
              "</style>\n",
              "<table border=\"1\" class=\"dataframe\">\n",
              "  <thead>\n",
              "    <tr style=\"text-align: right;\">\n",
              "      <th></th>\n",
              "      <th>Book Title</th>\n",
              "      <th>Book Price</th>\n",
              "      <th>Stock Availability</th>\n",
              "    </tr>\n",
              "  </thead>\n",
              "  <tbody>\n",
              "    <tr>\n",
              "      <th>0</th>\n",
              "      <td>Chase Me (Paris Nights #2)</td>\n",
              "      <td>Â£25.27</td>\n",
              "      <td>In stock (19 available)</td>\n",
              "    </tr>\n",
              "    <tr>\n",
              "      <th>1</th>\n",
              "      <td>Black Dust</td>\n",
              "      <td>Â£34.53</td>\n",
              "      <td>In stock (19 available)</td>\n",
              "    </tr>\n",
              "    <tr>\n",
              "      <th>2</th>\n",
              "      <td>Her Backup Boyfriend (The Sorensen Family #1)</td>\n",
              "      <td>Â£33.97</td>\n",
              "      <td>In stock (16 available)</td>\n",
              "    </tr>\n",
              "    <tr>\n",
              "      <th>3</th>\n",
              "      <td>First and First (Five Boroughs #3)</td>\n",
              "      <td>Â£15.97</td>\n",
              "      <td>In stock (16 available)</td>\n",
              "    </tr>\n",
              "    <tr>\n",
              "      <th>4</th>\n",
              "      <td>Fifty Shades Darker (Fifty Shades #2)</td>\n",
              "      <td>Â£21.96</td>\n",
              "      <td>In stock (16 available)</td>\n",
              "    </tr>\n",
              "    <tr>\n",
              "      <th>5</th>\n",
              "      <td>The Wedding Dress</td>\n",
              "      <td>Â£24.12</td>\n",
              "      <td>In stock (15 available)</td>\n",
              "    </tr>\n",
              "    <tr>\n",
              "      <th>6</th>\n",
              "      <td>Suddenly in Love (Lake Haven #1)</td>\n",
              "      <td>Â£55.99</td>\n",
              "      <td>In stock (15 available)</td>\n",
              "    </tr>\n",
              "    <tr>\n",
              "      <th>7</th>\n",
              "      <td>Something More Than This</td>\n",
              "      <td>Â£16.24</td>\n",
              "      <td>In stock (15 available)</td>\n",
              "    </tr>\n",
              "    <tr>\n",
              "      <th>8</th>\n",
              "      <td>Doing It Over (Most Likely To #1)</td>\n",
              "      <td>Â£35.61</td>\n",
              "      <td>In stock (15 available)</td>\n",
              "    </tr>\n",
              "    <tr>\n",
              "      <th>9</th>\n",
              "      <td>The Wedding Pact (The O'Malleys #2)</td>\n",
              "      <td>Â£32.61</td>\n",
              "      <td>In stock (14 available)</td>\n",
              "    </tr>\n",
              "  </tbody>\n",
              "</table>\n",
              "</div>"
            ],
            "text/plain": [
              "                                      Book Title  ...       Stock Availability\n",
              "0                     Chase Me (Paris Nights #2)  ...  In stock (19 available)\n",
              "1                                     Black Dust  ...  In stock (19 available)\n",
              "2  Her Backup Boyfriend (The Sorensen Family #1)  ...  In stock (16 available)\n",
              "3             First and First (Five Boroughs #3)  ...  In stock (16 available)\n",
              "4          Fifty Shades Darker (Fifty Shades #2)  ...  In stock (16 available)\n",
              "5                              The Wedding Dress  ...  In stock (15 available)\n",
              "6               Suddenly in Love (Lake Haven #1)  ...  In stock (15 available)\n",
              "7                       Something More Than This  ...  In stock (15 available)\n",
              "8              Doing It Over (Most Likely To #1)  ...  In stock (15 available)\n",
              "9            The Wedding Pact (The O'Malleys #2)  ...  In stock (14 available)\n",
              "\n",
              "[10 rows x 3 columns]"
            ]
          },
          "metadata": {
            "tags": []
          },
          "execution_count": 35
        }
      ]
    }
  ]
}